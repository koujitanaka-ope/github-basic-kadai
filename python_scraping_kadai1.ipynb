{
  "nbformat": 4,
  "nbformat_minor": 0,
  "metadata": {
    "colab": {
      "provenance": [],
      "authorship_tag": "ABX9TyPtFi+ObkX/CWIsPR8XjKYV",
      "include_colab_link": true
    },
    "kernelspec": {
      "name": "python3",
      "display_name": "Python 3"
    },
    "language_info": {
      "name": "python"
    }
  },
  "cells": [
    {
      "cell_type": "markdown",
      "metadata": {
        "id": "view-in-github",
        "colab_type": "text"
      },
      "source": [
        "<a href=\"https://colab.research.google.com/github/koujitanaka-ope/github-basic-kadai/blob/main/python_scraping_kadai1.ipynb\" target=\"_parent\"><img src=\"https://colab.research.google.com/assets/colab-badge.svg\" alt=\"Open In Colab\"/></a>"
      ]
    },
    {
      "cell_type": "code",
      "source": [
        "import requests\n",
        "from bs4 import BeautifulSoup\n",
        "\n",
        "url = 'https://news.yahoo.co.jp/articles/2ee333bc05cd2ed1e722aeccfa1a4ddccc42390d'\n",
        "\n",
        "response = requests.get(url)\n",
        "soup = BeautifulSoup(response.text, 'html.parser')\n",
        "\n",
        "# 本文を含む適切なセレクタを使って本文を抽出する\n",
        "article_body = soup.find('div', class_='article_body')\n",
        "\n",
        "if article_body:\n",
        "    # 本文をテキスト形式で取得し、表示する\n",
        "    paragraphs = article_body.find_all('p')\n",
        "    article_text = '\\n'.join([p.get_text() for p in paragraphs])\n",
        "    print(article_text)\n",
        "else:\n",
        "    print(\"本文が見つかりませんでした。\")"
      ],
      "metadata": {
        "colab": {
          "base_uri": "https://localhost:8080/"
        },
        "id": "tTIVzDZyl23b",
        "outputId": "1f88cc64-5304-40f4-e69b-4c36e7cf3581"
      },
      "execution_count": 19,
      "outputs": [
        {
          "output_type": "stream",
          "name": "stdout",
          "text": [
            "歌手の八代亜紀さん\n",
            "　「雨の慕情」「舟唄（ふなうた）」などのヒット曲で知られる演歌歌手の八代亜紀（やしろ・あき）さんが昨年12月30日死去した。\n",
            "\n",
            "【写真特集】追悼2023～菅野　昭正さん、陳建一さん、大江健三郎さん他～\n",
            "\n",
            "　73歳だった。熊本県出身。所属事務所が9日発表した。葬儀は既に済ませ、後日、お別れの会を行う。\n",
            "\n",
            "　事務所によると、昨年9月に膠原（こうげん）病の一種の指定難病を発症。療養を続けていたが、容体が急変したという。　\n"
          ]
        }
      ]
    }
  ]
}