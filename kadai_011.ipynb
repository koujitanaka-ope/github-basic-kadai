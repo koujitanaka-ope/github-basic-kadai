{
  "nbformat": 4,
  "nbformat_minor": 0,
  "metadata": {
    "colab": {
      "provenance": [],
      "authorship_tag": "ABX9TyNBahdItoC2zTXG0cWhLClq",
      "include_colab_link": true
    },
    "kernelspec": {
      "name": "python3",
      "display_name": "Python 3"
    },
    "language_info": {
      "name": "python"
    }
  },
  "cells": [
    {
      "cell_type": "markdown",
      "metadata": {
        "id": "view-in-github",
        "colab_type": "text"
      },
      "source": [
        "<a href=\"https://colab.research.google.com/github/koujitanaka-ope/github-basic-kadai/blob/main/kadai_011.ipynb\" target=\"_parent\"><img src=\"https://colab.research.google.com/assets/colab-badge.svg\" alt=\"Open In Colab\"/></a>"
      ]
    },
    {
      "cell_type": "code",
      "execution_count": 34,
      "metadata": {
        "colab": {
          "base_uri": "https://localhost:8080/"
        },
        "id": "aj7FYWd_t1pX",
        "outputId": "69935d69-bcea-4f8d-bf81-dc4178ddf54b"
      },
      "outputs": [
        {
          "output_type": "stream",
          "name": "stdout",
          "text": [
            "水\n",
            "金\n",
            "地\n",
            "火\n",
            "木\n",
            "土\n",
            "天\n",
            "海\n",
            "冥\n",
            "水\n",
            "金\n",
            "地\n",
            "火\n",
            "木\n",
            "土\n",
            "天\n",
            "海\n",
            "冥\n"
          ]
        }
      ],
      "source": [
        "list1 = [\"水\",\"金\",\"地\",\"火\",\"木\",\"土\",\"天\",\"海\",\"冥\"]\n",
        "for i in list1 * 2:\n",
        "    print(i)"
      ]
    },
    {
      "cell_type": "markdown",
      "source": [],
      "metadata": {
        "id": "l6vUTVMNxEBi"
      }
    },
    {
      "cell_type": "code",
      "source": [
        "lst = [\"水\", \"金\", \"地\", \"火\", \"木\", \"土\", \"天\", \"海\", \"冥\"]\n",
        "count = 0\n",
        "repeated_count = 0\n",
        "length = len(lst)\n",
        "\n",
        "while repeated_count < 2:\n",
        "    print(lst[count % length])\n",
        "    count += 1\n",
        "\n",
        "    if lst[count % length] == \"水\":\n",
        "        repeated_count += 1\n",
        "\n",
        "    if repeated_count >= 3:\n",
        "        break"
      ],
      "metadata": {
        "colab": {
          "base_uri": "https://localhost:8080/"
        },
        "id": "ff3X1aIIxERZ",
        "outputId": "d0870e67-625a-4608-85cd-47fee09f900d"
      },
      "execution_count": 36,
      "outputs": [
        {
          "output_type": "stream",
          "name": "stdout",
          "text": [
            "水\n",
            "金\n",
            "地\n",
            "火\n",
            "木\n",
            "土\n",
            "天\n",
            "海\n",
            "冥\n",
            "水\n",
            "金\n",
            "地\n",
            "火\n",
            "木\n",
            "土\n",
            "天\n",
            "海\n",
            "冥\n"
          ]
        }
      ]
    }
  ]
}