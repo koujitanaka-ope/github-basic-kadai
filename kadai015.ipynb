{
  "nbformat": 4,
  "nbformat_minor": 0,
  "metadata": {
    "colab": {
      "provenance": [],
      "authorship_tag": "ABX9TyP7V1UHCIXCfV3exOKcURkK",
      "include_colab_link": true
    },
    "kernelspec": {
      "name": "python3",
      "display_name": "Python 3"
    },
    "language_info": {
      "name": "python"
    }
  },
  "cells": [
    {
      "cell_type": "markdown",
      "metadata": {
        "id": "view-in-github",
        "colab_type": "text"
      },
      "source": [
        "<a href=\"https://colab.research.google.com/github/koujitanaka-ope/github-basic-kadai/blob/main/kadai015.ipynb\" target=\"_parent\"><img src=\"https://colab.research.google.com/assets/colab-badge.svg\" alt=\"Open In Colab\"/></a>"
      ]
    },
    {
      "cell_type": "code",
      "execution_count": 14,
      "metadata": {
        "colab": {
          "base_uri": "https://localhost:8080/"
        },
        "id": "LHJ2l1DsWiD3",
        "outputId": "81b410d4-ae57-4127-de27-ab7e7c1dee43"
      },
      "outputs": [
        {
          "output_type": "stream",
          "name": "stdout",
          "text": [
            "Name: 玉田, Age: 30, 身長: 170\n"
          ]
        }
      ],
      "source": [
        "class Human:\n",
        "    def __init__(self, name, age, high):\n",
        "        self.name = name\n",
        "        self.age = age\n",
        "        self.high = high  # self.sexではなくself.highに代入\n",
        "\n",
        "    def printinfo(self):\n",
        "        print(f\"Name: {self.name}, Age: {self.age}, 身長: {self.high}\")\n",
        "\n",
        "# Humanクラスのインスタンスを作成し、変数に代入\n",
        "person = Human(\"玉田\", 30, 170)\n",
        "\n",
        "# printinfoメソッドを呼び出して名前、年齢、身長を表示\n",
        "person.printinfo()\n"
      ]
    }
  ]
}